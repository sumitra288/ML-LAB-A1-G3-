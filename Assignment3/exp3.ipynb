{
  "nbformat": 4,
  "nbformat_minor": 0,
  "metadata": {
    "colab": {
      "provenance": [],
      "authorship_tag": "ABX9TyM3II26PbergtmL/ka4+y6b",
      "include_colab_link": true
    },
    "kernelspec": {
      "name": "python3",
      "display_name": "Python 3"
    },
    "language_info": {
      "name": "python"
    }
  },
  "cells": [
    {
      "cell_type": "markdown",
      "metadata": {
        "id": "view-in-github",
        "colab_type": "text"
      },
      "source": [
        "<a href=\"https://colab.research.google.com/gist/sumitra288/783c64df349a839d43dfa7710a670a05/exp3.ipynb\" target=\"_parent\"><img src=\"https://colab.research.google.com/assets/colab-badge.svg\" alt=\"Open In Colab\"/></a>"
      ]
    },
    {
      "cell_type": "code",
      "execution_count": null,
      "metadata": {
        "id": "L9fZn5CbTGPo"
      },
      "outputs": [],
      "source": [
        "import numpy as np\n",
        "import pandas as pd\n",
        "import matplotlib.pyplot as plt\n",
        "\n",
        "from sklearn.model_selection import train_test_split\n",
        "from sklearn.feature_extraction.text import CountVectorizer, TfidfVectorizer\n",
        "from sklearn.preprocessing import StandardScaler\n",
        "from sklearn.metrics import accuracy_score, precision_score, recall_score, f1_score, confusion_matrix\n"
      ]
    },
    {
      "cell_type": "code",
      "source": [
        "df = pd.read_csv(\"spam.csv\", encoding=\"latin-1\")\n",
        "\n",
        "df = df.iloc[:, :2]\n",
        "df.columns = [\"label\", \"message\"]\n",
        "\n",
        "df['label'] = df['label'].map({'ham': 0, 'spam': 1})\n",
        "\n",
        "print(df.head())\n",
        "\n",
        "X = df['message'].values\n",
        "y = df['label'].values\n",
        "\n",
        "X_train_raw, X_test_raw, y_train, y_test = train_test_split(X, y, test_size=0.2, random_state=42, stratify=y)\n"
      ],
      "metadata": {
        "id": "vwiw81BMVwLg",
        "colab": {
          "base_uri": "https://localhost:8080/"
        },
        "outputId": "3a0553c5-796f-4b83-f755-2c3b55083dae"
      },
      "execution_count": null,
      "outputs": [
        {
          "output_type": "stream",
          "name": "stdout",
          "text": [
            "   label                                            message\n",
            "0      0  Go until jurong point, crazy.. Available only ...\n",
            "1      0                      Ok lar... Joking wif u oni...\n",
            "2      1  Free entry in 2 a wkly comp to win FA Cup fina...\n",
            "3      0  U dun say so early hor... U c already then say...\n",
            "4      0  Nah I don't think he goes to usf, he lives aro...\n"
          ]
        }
      ]
    },
    {
      "cell_type": "code",
      "source": [
        "count_vec = CountVectorizer()\n",
        "X_train_count = count_vec.fit_transform(X_train_raw).toarray()\n",
        "X_test_count = count_vec.transform(X_test_raw).toarray()\n",
        "\n",
        "tfidf_vec = TfidfVectorizer()\n",
        "X_train_tfidf = tfidf_vec.fit_transform(X_train_raw).toarray()\n",
        "X_test_tfidf = tfidf_vec.transform(X_test_raw).toarray()"
      ],
      "metadata": {
        "id": "1c9pvt1sWX7R"
      },
      "execution_count": null,
      "outputs": []
    },
    {
      "cell_type": "code",
      "source": [
        "scaler = StandardScaler(with_mean=False)  # works for sparse matrices\n",
        "X_train_count_scaled = scaler.fit_transform(X_train_count)\n",
        "X_test_count_scaled = scaler.transform(X_test_count)\n",
        "\n",
        "X_train_tfidf_scaled = scaler.fit_transform(X_train_tfidf)\n",
        "X_test_tfidf_scaled = scaler.transform(X_test_tfidf)\n"
      ],
      "metadata": {
        "id": "3kFKE2CIWecB"
      },
      "execution_count": null,
      "outputs": []
    },
    {
      "cell_type": "code",
      "source": [
        "class LogisticRegressionScratch:\n",
        "    def __init__(self, lr=0.01, epochs=1000, reg_lambda=0.0):\n",
        "        self.lr = lr\n",
        "        self.epochs = epochs\n",
        "        self.reg_lambda = reg_lambda\n",
        "\n",
        "    def sigmoid(self, z):\n",
        "        return 1 / (1 + np.exp(-z))\n",
        "\n",
        "    def fit(self, X, y):\n",
        "        self.losses = []\n",
        "        m, n = X.shape\n",
        "        self.weights = np.zeros(n)\n",
        "        self.bias = 0\n",
        "\n",
        "        for _ in range(self.epochs):\n",
        "            linear_model = np.dot(X, self.weights) + self.bias\n",
        "            y_pred = self.sigmoid(linear_model)\n",
        "\n",
        "            dw = (1/m) * np.dot(X.T, (y_pred - y)) + (self.reg_lambda/m) * self.weights\n",
        "            db = (1/m) * np.sum(y_pred - y)\n",
        "\n",
        "            self.weights -= self.lr * dw\n",
        "            self.bias -= self.lr * db\n",
        "\n",
        "            loss = - (1/m) * np.sum(y*np.log(y_pred+1e-15) + (1-y)*np.log(1-y_pred+1e-15))\n",
        "            loss += (self.reg_lambda/(2*m)) * np.sum(self.weights**2)\n",
        "            self.losses.append(loss)\n",
        "\n",
        "    def predict(self, X):\n",
        "        linear_model = np.dot(X, self.weights) + self.bias\n",
        "        y_pred = self.sigmoid(linear_model)\n",
        "        return np.where(y_pred >= 0.5, 1, 0)\n"
      ],
      "metadata": {
        "id": "WGBzovf7Wjax"
      },
      "execution_count": null,
      "outputs": []
    },
    {
      "cell_type": "code",
      "source": [
        "def evaluate(model, X_test, y_test):\n",
        "    y_pred = model.predict(X_test)\n",
        "    print(\"Accuracy :\", accuracy_score(y_test, y_pred))\n",
        "    print(\"Precision:\", precision_score(y_test, y_pred))\n",
        "    print(\"Recall   :\", recall_score(y_test, y_pred))\n",
        "    print(\"F1 Score :\", f1_score(y_test, y_pred))\n",
        "    print(\"Confusion Matrix:\\n\", confusion_matrix(y_test, y_pred))\n"
      ],
      "metadata": {
        "id": "CIZAW-FvQdWK"
      },
      "execution_count": null,
      "outputs": []
    },
    {
      "cell_type": "code",
      "source": [
        "print(\"=== Logistic Regression (CountVectorizer + Scaling, No Regularization) ===\")\n",
        "model = LogisticRegressionScratch(lr=0.01, epochs=500)\n",
        "model.fit(X_train_count_scaled, y_train)\n",
        "evaluate(model, X_test_count_scaled, y_test)\n",
        "\n",
        "plt.plot(model.losses)\n",
        "plt.xlabel(\"Epochs\")\n",
        "plt.ylabel(\"Loss\")\n",
        "plt.title(\"Loss Curve (Baseline)\")\n",
        "plt.show()\n",
        "\n"
      ],
      "metadata": {
        "colab": {
          "base_uri": "https://localhost:8080/",
          "height": 611
        },
        "id": "7oCE2WCeQiss",
        "outputId": "de0e9c2f-cd79-48a8-9241-697f8d869807"
      },
      "execution_count": null,
      "outputs": [
        {
          "output_type": "stream",
          "name": "stdout",
          "text": [
            "=== Logistic Regression (CountVectorizer + Scaling, No Regularization) ===\n",
            "Accuracy : 0.9704035874439462\n",
            "Precision: 0.9833333333333333\n",
            "Recall   : 0.7919463087248322\n",
            "F1 Score : 0.8773234200743495\n",
            "Confusion Matrix:\n",
            " [[964   2]\n",
            " [ 31 118]]\n"
          ]
        },
        {
          "output_type": "display_data",
          "data": {
            "text/plain": [
              "<Figure size 640x480 with 1 Axes>"
            ],
            "image/png": "[encoded data removed]"
          },
          "metadata": {}
        }
      ]
    },
    {
      "cell_type": "code",
      "source": [
        "print(\"\\n=== CountVectorizer ===\")\n",
        "model_count = LogisticRegressionScratch(lr=0.01, epochs=500)\n",
        "model_count.fit(X_train_count_scaled, y_train)\n",
        "evaluate(model_count, X_test_count_scaled, y_test)\n",
        "\n",
        "print(\"\\n=== TfidfVectorizer ===\")\n",
        "model_tfidf = LogisticRegressionScratch(lr=0.01, epochs=500)\n",
        "model_tfidf.fit(X_train_tfidf_scaled, y_train)\n",
        "evaluate(model_tfidf, X_test_tfidf_scaled, y_test)\n"
      ],
      "metadata": {
        "colab": {
          "base_uri": "https://localhost:8080/"
        },
        "id": "7sbVkTb0QrAi",
        "outputId": "23c56d73-d7fb-4299-9d33-bda69c136818"
      },
      "execution_count": null,
      "outputs": [
        {
          "output_type": "stream",
          "name": "stdout",
          "text": [
            "\n",
            "=== CountVectorizer ===\n",
            "Accuracy : 0.9704035874439462\n",
            "Precision: 0.9833333333333333\n",
            "Recall   : 0.7919463087248322\n",
            "F1 Score : 0.8773234200743495\n",
            "Confusion Matrix:\n",
            " [[964   2]\n",
            " [ 31 118]]\n",
            "\n",
            "=== TfidfVectorizer ===\n",
            "Accuracy : 0.9730941704035875\n",
            "Precision: 0.976\n",
            "Recall   : 0.8187919463087249\n",
            "F1 Score : 0.8905109489051095\n",
            "Confusion Matrix:\n",
            " [[963   3]\n",
            " [ 27 122]]\n"
          ]
        }
      ]
    },
    {
      "cell_type": "code",
      "source": [
        "for reg in [0.01, 0.1, 1.0]:\n",
        "    print(f\"\\n=== Logistic Regression with L2 Regularization (λ={reg}) ===\")\n",
        "    model_reg = LogisticRegressionScratch(lr=0.01, epochs=500, reg_lambda=reg)\n",
        "    model_reg.fit(X_train_count_scaled, y_train)\n",
        "    evaluate(model_reg, X_test_count_scaled, y_test)"
      ],
      "metadata": {
        "colab": {
          "base_uri": "https://localhost:8080/"
        },
        "id": "t5ArEFkZQ4qI",
        "outputId": "53211ae0-0ede-43d7-9357-87aad76ad76d"
      },
      "execution_count": null,
      "outputs": [
        {
          "output_type": "stream",
          "name": "stdout",
          "text": [
            "\n",
            "=== Logistic Regression with L2 Regularization (λ=0.01) ===\n",
            "Accuracy : 0.9704035874439462\n",
            "Precision: 0.9833333333333333\n",
            "Recall   : 0.7919463087248322\n",
            "F1 Score : 0.8773234200743495\n",
            "Confusion Matrix:\n",
            " [[964   2]\n",
            " [ 31 118]]\n",
            "\n",
            "=== Logistic Regression with L2 Regularization (λ=0.1) ===\n",
            "Accuracy : 0.9704035874439462\n",
            "Precision: 0.9833333333333333\n",
            "Recall   : 0.7919463087248322\n",
            "F1 Score : 0.8773234200743495\n",
            "Confusion Matrix:\n",
            " [[964   2]\n",
            " [ 31 118]]\n",
            "\n",
            "=== Logistic Regression with L2 Regularization (λ=1.0) ===\n",
            "Accuracy : 0.9704035874439462\n",
            "Precision: 0.9833333333333333\n",
            "Recall   : 0.7919463087248322\n",
            "F1 Score : 0.8773234200743495\n",
            "Confusion Matrix:\n",
            " [[964   2]\n",
            " [ 31 118]]\n"
          ]
        }
      ]
    }
  ]
}